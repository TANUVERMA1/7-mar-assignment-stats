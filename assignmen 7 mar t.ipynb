{
 "cells": [
  {
   "cell_type": "markdown",
   "id": "be0d4d4d-ad30-4813-b0a7-122425144180",
   "metadata": {},
   "source": [
    "Q1. What are the three measures of central tendency?"
   ]
  },
  {
   "cell_type": "markdown",
   "id": "0262f67d-2a9f-4c85-8a40-dc22c8b36dbe",
   "metadata": {},
   "source": [
    "(a) mean\n",
    "(b)median\n",
    "(c)mode"
   ]
  },
  {
   "cell_type": "markdown",
   "id": "136b2c79-866a-49f8-b65d-b75bc30f5525",
   "metadata": {},
   "source": [
    "Q2. What is the difference between the mean, median, and mode? How are they used to measure the\n",
    "central tendency of a dataset?"
   ]
  },
  {
   "cell_type": "markdown",
   "id": "089ddb43-279d-4040-8816-a95fa8eb4aef",
   "metadata": {},
   "source": [
    "mean = sum of all value/no of all datapoint\n",
    "where we find average tendency and frequency.The arithmetic mean of a dataset (which is different from the geometric mean) is the sum of all values divided by the total number of values. It’s the most commonly used measure of central tendency because all values are used in the calculation.\n",
    "\n",
    "Example: Finding the mean\n",
    "Participant\t1\t2\t3\t4\t5\n",
    "Reaction time (milliseconds)\t287\t345\t365\t298\t380\n",
    "First you add up the sum of all values:\n",
    "\n",
    "  \\begin{equation*}\\sum{x}=287+345+365+298+380=1\\,675\\end{equation*}\n",
    "Then you calculate the mean using the formula\n",
    "\n",
    "  \\begin{equation*} \\frac {\\sum{x}}{n} \\end{equation*}\n",
    "There are 5 values in the dataset, so n = 5.\n",
    "\n",
    "  \\begin{equation*}\\bar{x}=\\dfrac{1\\,675}{5}=335\\end{equation*}\n",
    "Mean (x̄): 335 milliseconds\n",
    "\n",
    "Outlier effect on the mean\n",
    "Outliers can significantly increase or decrease the mean when they are included in the calculation. Since all values are used to calculate the mean, it can be affected by extreme outliers. An outlier is a value that differs significantly from the others in a dataset.\n",
    "\n",
    "median = The median of a dataset is the value that’s exactly in the middle when it is ordered from low to high.\n",
    "Example: Finding the median\n",
    "You measure the reaction times of 7 participants on a computer task and categorize them into 3 groups: slow, medium or fast.\n",
    "Participant\t1\t2\t3\t4\t5\t6\t7\n",
    "Speed\tMedium\tSlow\tFast\tFast\tMedium\tFast\tSlow\n",
    "To find the median, you first order all values from low to high. Then, you find the value in the middle of the ordered dataset—in this case, the value in the 4th position.\n",
    "\n",
    "Ordered dataset\tSlow\tSlow\tMedium\tMedium\tFast\tFast\tFast\n",
    "In larger datasets, it’s easier to use simple formulas to figure out the position of the middle value in the distribution. You use different methods to find the median of a dataset depending on whether the total number of values is even or odd.\n",
    "\n",
    "Median of an odd-numbered dataset\n",
    "For an odd-numbered dataset, find the value that lies at the \\dfrac{(n+1)}{2} position, where n is the number of values in the dataset.\n",
    "Median of an even-numbered dataset\n",
    "For an even-numbered dataset, find the two values in the middle of the dataset: the values at the \\dfrac{n}{2} and (\\dfrac{n}{2})+1 positions. Then, find their mean.\n",
    "\n",
    "Mode\n",
    "The mode is the most frequently occurring value in the dataset. It’s possible to have no mode, one mode, or more than one mode.\n",
    "\n",
    "To find the mode, sort your dataset numerically or categorically and select the response that occurs most frequently.\n",
    "\n",
    "Example: Finding the mode\n",
    "In a survey, you ask 9 participants whether they identify as conservative, moderate, or liberal.\n",
    "To find the mode, sort your data by category and find which response was chosen most frequently.\n",
    "\n",
    "To make it easier, you can create a frequency table to count up the values for each category.\n",
    "\n",
    "Political ideology\tFrequency\n",
    "Conservative\t2\n",
    "Moderate\t3\n",
    "Liberal\t4\n",
    "Mode: Liberal\n",
    "\n",
    "The mode is easily seen in a bar graph because it is the value with the highest bar.\n",
    "\n",
    "\n"
   ]
  },
  {
   "cell_type": "markdown",
   "id": "47f271b5-5364-4a38-b672-77a4d0d877d3",
   "metadata": {},
   "source": [
    "the main differences between the mean, median or mode are:-\n",
    "\n",
    "The 3 main measures of central tendency are best used in combination with each other because they have complementary strengths and limitations. But sometimes only 1 or 2 of them are applicable to your dataset, depending on the level of measurement of the variable.\n",
    "\n",
    "The mode can be used for any level of measurement, but it’s most meaningful for nominal and ordinal levels.\n",
    "The median can only be used on data that can be ordered – that is, from ordinal, interval and ratio levels of measurement.\n",
    "The mean can only be used on interval and ratio levels of measurement because it requires equal spacing between adjacent values or scores in the scale"
   ]
  },
  {
   "cell_type": "markdown",
   "id": "be7b0126-f252-4e37-892b-818494f38af9",
   "metadata": {},
   "source": [
    "Q3. Measure the three measures of central tendency for the given height data:\n",
    "[178,177,176,177,178.2,178,175,179,180,175,178.9,176.2,177,172.5,178,176.5]"
   ]
  },
  {
   "cell_type": "code",
   "execution_count": 5,
   "id": "438c21bd-a51f-4c72-ae6b-8e7a631820df",
   "metadata": {},
   "outputs": [],
   "source": [
    "HEIGHT=[178,177,176,177,178.2,178,175,179,180,175,178.9,176.2,177,172.5,178,176.5]"
   ]
  },
  {
   "cell_type": "code",
   "execution_count": 6,
   "id": "3a5fbc36-a67f-41c6-be82-a32926c60301",
   "metadata": {},
   "outputs": [
    {
     "data": {
      "text/plain": [
       "[178,\n",
       " 177,\n",
       " 176,\n",
       " 177,\n",
       " 178.2,\n",
       " 178,\n",
       " 175,\n",
       " 179,\n",
       " 180,\n",
       " 175,\n",
       " 178.9,\n",
       " 176.2,\n",
       " 177,\n",
       " 172.5,\n",
       " 178,\n",
       " 176.5]"
      ]
     },
     "execution_count": 6,
     "metadata": {},
     "output_type": "execute_result"
    }
   ],
   "source": [
    "HEIGHT"
   ]
  },
  {
   "cell_type": "code",
   "execution_count": 4,
   "id": "5374de26-4a1b-4ee9-9b3e-af60c17b8ffa",
   "metadata": {},
   "outputs": [
    {
     "data": {
      "text/plain": [
       "177.01875"
      ]
     },
     "execution_count": 4,
     "metadata": {},
     "output_type": "execute_result"
    }
   ],
   "source": [
    "import numpy as np\n",
    "np.mean(HEIGHT)"
   ]
  },
  {
   "cell_type": "code",
   "execution_count": 5,
   "id": "7f4c07ad-d185-4cca-881a-92d4254dc833",
   "metadata": {},
   "outputs": [
    {
     "data": {
      "text/plain": [
       "177.0"
      ]
     },
     "execution_count": 5,
     "metadata": {},
     "output_type": "execute_result"
    }
   ],
   "source": [
    "np.median(HEIGHT)"
   ]
  },
  {
   "cell_type": "code",
   "execution_count": 3,
   "id": "0dfebbd0-9158-4a0f-b1fb-b4bfd024627f",
   "metadata": {},
   "outputs": [],
   "source": [
    "from scipy import stats"
   ]
  },
  {
   "cell_type": "code",
   "execution_count": 7,
   "id": "4c7df103-85be-48a8-8af6-aac82d049814",
   "metadata": {},
   "outputs": [
    {
     "name": "stderr",
     "output_type": "stream",
     "text": [
      "/tmp/ipykernel_1220/25554926.py:1: FutureWarning: Unlike other reduction functions (e.g. `skew`, `kurtosis`), the default behavior of `mode` typically preserves the axis it acts along. In SciPy 1.11.0, this behavior will change: the default value of `keepdims` will become False, the `axis` over which the statistic is taken will be eliminated, and the value None will no longer be accepted. Set `keepdims` to True or False to avoid this warning.\n",
      "  stats.mode(HEIGHT)\n"
     ]
    },
    {
     "data": {
      "text/plain": [
       "ModeResult(mode=array([177.]), count=array([3]))"
      ]
     },
     "execution_count": 7,
     "metadata": {},
     "output_type": "execute_result"
    }
   ],
   "source": [
    "stats.mode(HEIGHT)"
   ]
  },
  {
   "cell_type": "markdown",
   "id": "bd0bab11-279c-4fd6-ae09-4c1122ebd1fe",
   "metadata": {},
   "source": [
    "Q4. Find the standard deviation for the given data:\n",
    "[178,177,176,177,178.2,178,175,179,180,175,178.9,176.2,177,172.5,178,176.5]"
   ]
  },
  {
   "cell_type": "code",
   "execution_count": 8,
   "id": "f5f057e0-beeb-4fe4-ba30-a72ae53c0f21",
   "metadata": {},
   "outputs": [],
   "source": [
    "ages_lst =[178,177,176,177,178.2,178,175,179,180,175,178.9,176.2,177,172.5,178,176.5]"
   ]
  },
  {
   "cell_type": "code",
   "execution_count": 9,
   "id": "fbc5d6ae-f433-49e9-972e-7fdce6913358",
   "metadata": {},
   "outputs": [],
   "source": [
    "import numpy as np"
   ]
  },
  {
   "cell_type": "code",
   "execution_count": 12,
   "id": "9c49a3f7-0d37-44b7-a7f6-7d745d27ca9b",
   "metadata": {},
   "outputs": [
    {
     "data": {
      "text/plain": [
       "1.7885814036548633"
      ]
     },
     "execution_count": 12,
     "metadata": {},
     "output_type": "execute_result"
    }
   ],
   "source": [
    "np.std(ages_lst )"
   ]
  },
  {
   "cell_type": "code",
   "execution_count": 15,
   "id": "b05e3995-fb64-4621-a5ca-130e33e23c15",
   "metadata": {},
   "outputs": [
    {
     "data": {
      "text/plain": [
       "<AxesSubplot: ylabel='Count'>"
      ]
     },
     "execution_count": 15,
     "metadata": {},
     "output_type": "execute_result"
    },
    {
     "data": {
      "image/png": "[encoded data removed]",
      "text/plain": [
       "<Figure size 640x480 with 1 Axes>"
      ]
     },
     "metadata": {},
     "output_type": "display_data"
    }
   ],
   "source": [
    "import seaborn as sns\n",
    "sns.histplot(ages_lst,kde =True)"
   ]
  },
  {
   "cell_type": "markdown",
   "id": "959aa05a-a3f6-4ff2-ab9a-6932027635e6",
   "metadata": {},
   "source": [
    "Q5. How are measures of dispersion such as range, variance, and standard deviation used to describe\n",
    "the spread of a dataset? Provide an example."
   ]
  },
  {
   "cell_type": "code",
   "execution_count": 17,
   "id": "e5e85765-61e0-4fde-8133-bbc95f82b111",
   "metadata": {},
   "outputs": [],
   "source": [
    "import pandas as pd"
   ]
  },
  {
   "cell_type": "code",
   "execution_count": 18,
   "id": "63b4723e-6c7a-458e-a5b9-7d89c73cbdd5",
   "metadata": {},
   "outputs": [
    {
     "data": {
      "text/plain": [
       "([32, 23, 24], [22, 31, 56], [50, 52, 43])"
      ]
     },
     "execution_count": 18,
     "metadata": {},
     "output_type": "execute_result"
    }
   ],
   "source": [
    "data = [32,23,24],[22,31,56],[50,52,43]\n",
    "data"
   ]
  },
  {
   "cell_type": "code",
   "execution_count": 19,
   "id": "313c2766-fad3-4f2a-bfc1-6483ddda81bf",
   "metadata": {},
   "outputs": [],
   "source": [
    "df=pd.DataFrame(data,columns =[\"A\",\"B\",\"C\"])"
   ]
  },
  {
   "cell_type": "code",
   "execution_count": 20,
   "id": "7d84b9b9-28c2-40c1-9192-aae2f67b9bbc",
   "metadata": {},
   "outputs": [
    {
     "data": {
      "text/html": [
       "<div>\n",
       "<style scoped>\n",
       "    .dataframe tbody tr th:only-of-type {\n",
       "        vertical-align: middle;\n",
       "    }\n",
       "\n",
       "    .dataframe tbody tr th {\n",
       "        vertical-align: top;\n",
       "    }\n",
       "\n",
       "    .dataframe thead th {\n",
       "        text-align: right;\n",
       "    }\n",
       "</style>\n",
       "<table border=\"1\" class=\"dataframe\">\n",
       "  <thead>\n",
       "    <tr style=\"text-align: right;\">\n",
       "      <th></th>\n",
       "      <th>A</th>\n",
       "      <th>B</th>\n",
       "      <th>C</th>\n",
       "    </tr>\n",
       "  </thead>\n",
       "  <tbody>\n",
       "    <tr>\n",
       "      <th>0</th>\n",
       "      <td>32</td>\n",
       "      <td>23</td>\n",
       "      <td>24</td>\n",
       "    </tr>\n",
       "    <tr>\n",
       "      <th>1</th>\n",
       "      <td>22</td>\n",
       "      <td>31</td>\n",
       "      <td>56</td>\n",
       "    </tr>\n",
       "    <tr>\n",
       "      <th>2</th>\n",
       "      <td>50</td>\n",
       "      <td>52</td>\n",
       "      <td>43</td>\n",
       "    </tr>\n",
       "  </tbody>\n",
       "</table>\n",
       "</div>"
      ],
      "text/plain": [
       "    A   B   C\n",
       "0  32  23  24\n",
       "1  22  31  56\n",
       "2  50  52  43"
      ]
     },
     "execution_count": 20,
     "metadata": {},
     "output_type": "execute_result"
    }
   ],
   "source": [
    "df.head()"
   ]
  },
  {
   "cell_type": "code",
   "execution_count": 21,
   "id": "cf3b9f76-6dd3-4d56-bb1b-fea9a618a230",
   "metadata": {},
   "outputs": [
    {
     "data": {
      "text/plain": [
       "A    201.333333\n",
       "B    224.333333\n",
       "C    259.000000\n",
       "dtype: float64"
      ]
     },
     "execution_count": 21,
     "metadata": {},
     "output_type": "execute_result"
    }
   ],
   "source": [
    "df.var()"
   ]
  },
  {
   "cell_type": "code",
   "execution_count": 25,
   "id": "d62bd03b-bf7d-40b6-a510-ff455597c651",
   "metadata": {},
   "outputs": [
    {
     "data": {
      "text/plain": [
       "12.657891697365017"
      ]
     },
     "execution_count": 25,
     "metadata": {},
     "output_type": "execute_result"
    }
   ],
   "source": [
    "np.std(data)"
   ]
  },
  {
   "cell_type": "markdown",
   "id": "eab92e2f-ad52-422f-aa74-d4a0d06b9e77",
   "metadata": {},
   "source": [
    "Q6. What is a Venn diagram?"
   ]
  },
  {
   "cell_type": "markdown",
   "id": "cff38f43-1b05-4a61-a966-d82e2c86cba3",
   "metadata": {},
   "source": [
    "A Venn diagram is an illustration that uses circles to show the relationships among things or finite groups of things. Circles that overlap have a commonality while circles that do not overlap do not share those traits. Venn diagrams help to visually represent the similarities and differences between two concepts.\n"
   ]
  },
  {
   "cell_type": "markdown",
   "id": "42f3bf90-850f-4e34-8b32-7e4c47e8a76b",
   "metadata": {},
   "source": [
    "Q7. For the two given sets A = (2,3,4,5,6,7) & B = (0,2,6,8,10). Find:\n",
    "(i) A B\n",
    "(ii) A ⋃ B"
   ]
  },
  {
   "cell_type": "code",
   "execution_count": null,
   "id": "5f2dc7f7-84bb-4225-a356-1fbcf9c06866",
   "metadata": {},
   "outputs": [],
   "source": []
  }
 ],
 "metadata": {
  "kernelspec": {
   "display_name": "Python 3 (ipykernel)",
   "language": "python",
   "name": "python3"
  },
  "language_info": {
   "codemirror_mode": {
    "name": "ipython",
    "version": 3
   },
   "file_extension": ".py",
   "mimetype": "text/x-python",
   "name": "python",
   "nbconvert_exporter": "python",
   "pygments_lexer": "ipython3",
   "version": "3.10.8"
  }
 },
 "nbformat": 4,
 "nbformat_minor": 5
}
